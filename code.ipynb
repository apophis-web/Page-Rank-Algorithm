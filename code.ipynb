{
  "cells": [
    {
      "cell_type": "code",
      "execution_count": null,
      "metadata": {
        "id": "CAk7LQHmJLZ3"
      },
      "outputs": [],
      "source": [
        "import numpy as np"
      ]
    },
    {
      "cell_type": "code",
      "execution_count": null,
      "metadata": {
        "scrolled": true,
        "id": "W2Xz1FJFJLZ7",
        "outputId": "c2f1cab8-276c-4a42-868d-90147e9b888b"
      },
      "outputs": [
        {
          "name": "stdout",
          "output_type": "stream",
          "text": [
            "[[0.         0.         0.         0.5        0.         0.\n",
            "  0.         0.         0.         0.         0.        ]\n",
            " [0.         0.         1.         0.5        0.33333333 0.5\n",
            "  0.5        0.5        0.5        0.         0.        ]\n",
            " [0.         1.         0.         0.         0.         0.\n",
            "  0.         0.         0.         0.         0.        ]\n",
            " [0.         0.         0.         0.         0.33333333 0.\n",
            "  0.         0.         0.         0.         0.        ]\n",
            " [0.         0.         0.         0.         0.         0.5\n",
            "  0.5        0.5        0.5        1.         1.        ]\n",
            " [0.         0.         0.         0.         0.33333333 0.\n",
            "  0.         0.         0.         0.         0.        ]\n",
            " [0.         0.         0.         0.         0.         0.\n",
            "  0.         0.         0.         0.         0.        ]\n",
            " [0.         0.         0.         0.         0.         0.\n",
            "  0.         0.         0.         0.         0.        ]\n",
            " [0.         0.         0.         0.         0.         0.\n",
            "  0.         0.         0.         0.         0.        ]\n",
            " [0.         0.         0.         0.         0.         0.\n",
            "  0.         0.         0.         0.         0.        ]\n",
            " [0.         0.         0.         0.         0.         0.\n",
            "  0.         0.         0.         0.         0.        ]]\n"
          ]
        }
      ],
      "source": [
        "#Given graph has 11 nodes. Mapping the outgoing edges in a numpy array\n",
        "webgraph = np.array([\n",
        "       [0,0,0,0,0,0,0,0,0,0,0],\n",
        "       [0,0,1,0,0,0,0,0,0,0,0],\n",
        "       [0,1,0,0,0,0,0,0,0,0,0],\n",
        "       [1,1,0,0,0,0,0,0,0,0,0],\n",
        "       [0,1,0,1,0,1,0,0,0,0,0],\n",
        "       [0,1,0,0,1,0,0,0,0,0,0],\n",
        "       [0,1,0,0,1,0,0,0,0,0,0],\n",
        "       [0,1,0,0,1,0,0,0,0,0,0],\n",
        "       [0,1,0,0,1,0,0,0,0,0,0],\n",
        "       [0,0,0,0,1,0,0,0,0,0,0],\n",
        "       [0,0,0,0,1,0,0,0,0,0,0]]) \n",
        "\n",
        "transitional_matrix = np.arange(len(webgraph)*len(webgraph)).reshape(len(webgraph),len(webgraph))\n",
        "for i in range(len(webgraph)):\n",
        "    for j in range(len(webgraph)):\n",
        "        transitional_matrix[i][j] = 0\n",
        "transitional_matrix = transitional_matrix.astype('float64')\n",
        "\n",
        "for i in range(len(webgraph)):\n",
        "    x = np.sum(webgraph[i])\n",
        "    for j in range(len(webgraph)):\n",
        "        if webgraph[i][j] ==1:\n",
        "            if x == 0:\n",
        "                transitional_matrix[i][j] = 1\n",
        "            else:\n",
        "                transitional_matrix[i][j] = 1/x  \n",
        "m = np.transpose(transitional_matrix)\n",
        "print(m)"
      ]
    },
    {
      "cell_type": "code",
      "execution_count": null,
      "metadata": {
        "id": "A7wkGkifJLZ9",
        "outputId": "d2809d08-7607-4e2e-b7f9-0e2ede66ea98"
      },
      "outputs": [
        {
          "name": "stdout",
          "output_type": "stream",
          "text": [
            "[ 3.45725916 30.58947686 26.2897633   4.09769335  8.54816825  4.09769335\n",
            "  1.81818182  1.81818182  1.81818182  1.81818182  1.81818182]\n"
          ]
        }
      ],
      "source": [
        "#Beta value 0.8\n",
        "B = 0.8\n",
        "V = [1/11,1/11,1/11,1/11,1/11,1/11,1/11,1/11,1/11,1/11,1/11]\n",
        "for i in range(1000000):\n",
        "        V = B * np.dot(m, V) + ((1 - B)/11)\n",
        "print(V*100)"
      ]
    },
    {
      "cell_type": "code",
      "execution_count": null,
      "metadata": {
        "id": "WSxeor20JLZ-",
        "outputId": "33106a92-62a6-4b7a-d9ad-7f770986d57a"
      },
      "outputs": [
        {
          "name": "stdout",
          "output_type": "stream",
          "text": [
            "[ 1.97083552 34.35987499 31.8329784   2.35943248  4.83447189  2.35943248\n",
            "  0.90909091  0.90909091  0.90909091  0.90909091  0.90909091]\n"
          ]
        }
      ],
      "source": [
        "#Beta value 0.9\n",
        "B = 0.9\n",
        "V = [1/11,1/11,1/11,1/11,1/11,1/11,1/11,1/11,1/11,1/11,1/11]\n",
        "for i in range(1000000):\n",
        "        V = B * np.dot(m, V) + ((1 - B)/11)\n",
        "print(V*100)"
      ]
    },
    {
      "cell_type": "code",
      "execution_count": null,
      "metadata": {
        "id": "XeELZK-9JLZ_"
      },
      "outputs": [],
      "source": [
        "#By changing BETA from 0.8 to 0.9 the top two page rank values increase even more while the lesser values become more less."
      ]
    },
    {
      "cell_type": "code",
      "execution_count": null,
      "metadata": {
        "id": "8_E5LU2dJLZ_"
      },
      "outputs": [],
      "source": [
        ""
      ]
    }
  ],
  "metadata": {
    "kernelspec": {
      "display_name": "Python 3",
      "language": "python",
      "name": "python3"
    },
    "language_info": {
      "codemirror_mode": {
        "name": "ipython",
        "version": 3
      },
      "file_extension": ".py",
      "mimetype": "text/x-python",
      "name": "python",
      "nbconvert_exporter": "python",
      "pygments_lexer": "ipython3",
      "version": "3.8.3"
    },
    "colab": {
      "name": "i191895_Assignment 2.ipynb",
      "provenance": []
    }
  },
  "nbformat": 4,
  "nbformat_minor": 0
}